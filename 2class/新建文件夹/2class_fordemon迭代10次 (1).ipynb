{
 "cells": [
  {
   "cell_type": "code",
   "execution_count": 1,
   "metadata": {},
   "outputs": [
    {
     "name": "stderr",
     "output_type": "stream",
     "text": [
      "Using TensorFlow backend.\n"
     ]
    }
   ],
   "source": [
    "#本代碼所涉及的所有函數庫\n",
    "import pandas as pd\n",
    "import numpy as np\n",
    "import matplotlib.pyplot as plt\n",
    "from sklearn import preprocessing\n",
    "from keras.utils import np_utils\n",
    "from sklearn.model_selection import train_test_split\n",
    "from keras.models import Sequential\n",
    "from keras.layers import Dense , Dropout,LSTM\n",
    "from keras import backend\n",
    "from keras.optimizers import SGD\n",
    "from pandas import read_csv\n",
    "import tensorflow.keras\n",
    "import tensorflow as tf\n",
    "import csv\n",
    "import math\n",
    "import random\n",
    "import operator\n",
    "from scipy.ndimage import gaussian_filter1d\n",
    "from scipy.signal import medfilt\n",
    "from sklearn.preprocessing import MinMaxScaler\n",
    "from math import sqrt\n",
    "from numpy import concatenate\n",
    "from matplotlib import pyplot\n",
    "from pandas import read_csv\n",
    "from pandas import DataFrame\n",
    "from pandas import concat\n",
    "from sklearn.preprocessing import LabelEncoder\n",
    "from sklearn.metrics import mean_squared_error\n",
    "from keras.layers.wrappers import Bidirectional\n",
    "from keras.layers.normalization import BatchNormalization\n",
    "from keras.layers.recurrent import GRU\n",
    "%matplotlib inline"
   ]
  },
  {
   "cell_type": "markdown",
   "metadata": {},
   "source": [
    "# LSTM模型"
   ]
  },
  {
   "cell_type": "code",
   "execution_count": 2,
   "metadata": {},
   "outputs": [],
   "source": [
    "def classdatapredeal(dirdata1,dirdata2,string):\n",
    "    \n",
    "#     df = pd.read_csv(filedir1)#\n",
    "#     #print(df)\n",
    "#     attribute=df.columns#獲取屬性值\n",
    "    attribute_set=[]\n",
    "    count_arribute=0#基因選擇後的屬性個數\n",
    "    #print(attribute)\n",
    "    i=0\n",
    "    for record in string: \n",
    "        if (record=='1'):\n",
    "            count_arribute+=1\n",
    "            attribute_set.append(i)\n",
    "        i=1+i\n",
    "    print(count_arribute)\n",
    "    data1 = []\n",
    "    label1 = []\n",
    "    data2 = []\n",
    "    label2 = []\n",
    "    \n",
    "    df1 = pd.read_csv(dirdata1,usecols=attribute_set,header = None)\n",
    "    print(df1)\n",
    "    rows = csv.reader(df1)\n",
    "    for index, row in df1.iterrows():\n",
    "        data1.append(row)\n",
    "        label1.append(0)\n",
    "    print(len(data1))\n",
    "\n",
    "    \n",
    "    df2 = pd.read_csv(dirdata2,usecols=attribute_set,header = None)\n",
    "    print(df2)\n",
    "    rows = csv.reader(df2)\n",
    "    for index, row in df2.iterrows():\n",
    "        data2.append(row)\n",
    "        label2.append(1)\n",
    "    print(len(data2))\n",
    "    \n",
    "   \n",
    "    # print(data1)\n",
    "    data1 = np.array(data1)\n",
    "    label1 = np.array(label1)\n",
    "    #print(data1)\n",
    "    data2 = np.array(data2)\n",
    "    label2 = np.array(label2)\n",
    "    \n",
    "\n",
    "    data1 = preprocessing.scale(data1)\n",
    "    data2 = preprocessing.scale(data2)\n",
    "   \n",
    "    #print(data1)\n",
    "    #print(data1)\n",
    "#     data1=medfilt(data1,3)\n",
    "#     data1=gaussian_filter1d(data1,1.2)\n",
    "#     data2=medfilt(data2,3)\n",
    "#     data2=gaussian_filter1d(data2,1.2)\n",
    "#     sc=MinMaxScaler(feature_range=(0,1))\n",
    "#     data1=sc.fit_transform(data1)\n",
    "#     data2=sc.fit_transform(data2)\n",
    "    return  data1,label1,data2,label2"
   ]
  },
  {
   "cell_type": "code",
   "execution_count": 3,
   "metadata": {},
   "outputs": [],
   "source": [
    "def datasplit(data,label):\n",
    "    train_X,test_X, train_y, test_y = train_test_split(data,\n",
    "                                                   label,\n",
    "                                                   test_size = 0.4,\n",
    "                                                   random_state = 77,shuffle=True)\n",
    "    return train_X,test_X, train_y, test_y\n",
    "    "
   ]
  },
  {
   "cell_type": "code",
   "execution_count": 4,
   "metadata": {},
   "outputs": [],
   "source": [
    "def datasplit1(data,label):\n",
    "    train_X,test_X, train_y, test_y = train_test_split(data,\n",
    "                                                   label,\n",
    "                                                   test_size = 0.3,\n",
    "                                                   random_state = 42,shuffle=True)\n",
    "    return train_X,test_X, train_y, test_y\n",
    "    "
   ]
  },
  {
   "cell_type": "code",
   "execution_count": 5,
   "metadata": {},
   "outputs": [],
   "source": [
    "#分類數據重組\n",
    "def classdataReorganization(data1,label1,data2,label2,step):\n",
    "    re_train_data = []\n",
    "    re_train_label=[]\n",
    "    for i in range(len(data1)-step):\n",
    "        re_train_data.append(data1[i:i+step])\n",
    "        re_train_label.append(label1[i+step])\n",
    "\n",
    "    for i in range(len(data2)-step):\n",
    "        re_train_data.append(data2[i:i+step])\n",
    "        re_train_label.append(label2[i+step])\n",
    "    \n",
    "    \n",
    "    All_data = np.array(re_train_data)\n",
    "    All_label = np.array(re_train_label)\n",
    "     # Label Onehot-encoding \n",
    "    All_label = np_utils.to_categorical(All_label)\n",
    "    return All_data,All_label"
   ]
  },
  {
   "cell_type": "code",
   "execution_count": 6,
   "metadata": {},
   "outputs": [],
   "source": [
    "def timeModel(X,step):\n",
    "# 序列到序列堆叠式LSTM模型 \n",
    "    #temp=X.shape[2]\n",
    "    model=Sequential()\n",
    "    model.add(LSTM(20,activation='relu',input_shape=(step,X.shape[2]),return_sequences=True))\n",
    "    model.add(LSTM(20,activation='relu'))\n",
    "    model.add(BatchNormalization())\n",
    "    model.add(Dense(2,activation = 'sigmoid'))\n",
    "    model.compile(loss='mse', optimizer=\"Adam\", metrics=['accuracy'])\n",
    "    model.summary()\n",
    "    return model"
   ]
  },
  {
   "cell_type": "code",
   "execution_count": 7,
   "metadata": {},
   "outputs": [],
   "source": [
    "def timeModel1(X,step):\n",
    "# 序列到序列堆叠式LSTM模型 \n",
    "\n",
    "    model=Sequential()\n",
    "    model.add(LSTM(50,activation='relu',input_shape=(step,X.shape[2]),return_sequences=True))\n",
    "    model.add(LSTM(50,activation='relu'))\n",
    "    model.add(BatchNormalization())\n",
    "    model.add(Dense(2,activation = 'sigmoid'))\n",
    "    model.compile(loss='mse', optimizer=\"Adam\", metrics=['accuracy'])\n",
    "    model.summary()\n",
    "    return model"
   ]
  },
  {
   "cell_type": "markdown",
   "metadata": {},
   "source": [
    "# 基因演算法"
   ]
  },
  {
   "cell_type": "code",
   "execution_count": 8,
   "metadata": {},
   "outputs": [],
   "source": [
    "class GA():\n",
    "    def __init__(self, length, count):\n",
    "        # 染色體長度\n",
    "        self.length = length\n",
    "        # 種群中的染色體數量\n",
    "        self.count = count\n",
    "        # 隨機生成初始種群\n",
    "        self.population = self.gen_population(length, count)\n",
    "        for i in range(len(self.population)):\n",
    "            print(\"染色體：\")\n",
    "            print(i)\n",
    "            print (self.population[i])\n",
    "            print ('{0:b}'.format(self.population[i]))\n",
    "#         #數據文路徑\n",
    "#         self.filedir=filedir\n",
    "    def evolve(self, retain_rate=0.2, random_select_rate=0.5, mutation_rate=0.01):\n",
    "        \"\"\"\n",
    "        進化\n",
    "        對當前一代種群依次進行選擇、交叉並生成新一代種群，然後對新一代種群進行變異\n",
    "        \"\"\"\n",
    "        parents = self.selection(retain_rate, random_select_rate)\n",
    "        self.crossover(parents)\n",
    "        self.mutation(mutation_rate)\n",
    "    def gen_chromosome(self, length):\n",
    "        \"\"\"\n",
    "        隨機生成長度為length的染色體，每個基因的取值是0或1\n",
    "        這裡用一個bit表示一個基因\n",
    "        \"\"\"\n",
    "        chromosome = 0\n",
    "        for i in range(length):\n",
    "            # 這裡的或是整個二進位制比對的或|,比如10和1或下來的結果是11，  1001和101或的結果是1101，所以此處是個不斷隨機或出來的長度\n",
    "            chromosome |= (1 << i) * random.randint(0, 1)  # 這裡每次左移， 隨機生成一個0或者1的數字，這樣不斷左移生成給定長度的二進位制染色體\n",
    "\n",
    "        #print ('{0:b}'.format(chromosome))\n",
    "        print(\"gen_chromosome pass\")\n",
    "        return chromosome\n",
    "    def gen_population(self, length, count):\n",
    "        \"\"\"\n",
    "        獲取初始種群（一個含有count個長度為length的染色體的列表）\n",
    "        \"\"\"\n",
    "        po=[]\n",
    "        j=0\n",
    "        while j<=count:#保证染色体长度一致\n",
    "            chromosome=0\n",
    "            for i in range(length):\n",
    "                    # 這裡的或是整個二進位制比對的或|,比如10和1或下來的結果是11，  1001和101或的結果是1101，所以此處是個不斷隨機或出來的長度\n",
    "                    chromosome |= (1 << i) * random.randint(0, 1) \n",
    "                    #print('{0:b}'.format(chromosome))\n",
    "            string='{0:b}'.format(chromosome)\n",
    "            len_chromosome=len(string)\n",
    "            if len_chromosome==length:\n",
    "                po.append(chromosome)\n",
    "                j+=1\n",
    "\n",
    "            \n",
    "        print(\"gen_population pass\")\n",
    "        return po\n",
    "    def fitness(self, chromosome):\n",
    "            string='{0:b}'.format(chromosome)\n",
    "            print(\"所選擇的染色體：\")\n",
    "            print(string)\n",
    "            #檔案路徑\n",
    "            class_dirdata1='n01new.csv'\n",
    "            class_dirdata2='y01new.csv'\n",
    "            #特征篩選\n",
    "            class_data1,class_label1,class_data2,class_label2=classdatapredeal(class_dirdata1,class_dirdata2,string)\n",
    "            time_step=100#時間序列設置\n",
    "            #數據和標籤設定\n",
    "            class_All_data,class_All_label=classdataReorganization(class_data1,class_label1,class_data2,class_label2,time_step)\n",
    "            #訓練集測試集分割\n",
    "            train_X,test_X, train_y, test_y=datasplit(class_All_data,class_All_label)\n",
    "            print(train_X.shape)\n",
    "            #模型訓練\n",
    "            timemodel=timeModel(train_X,time_step)\n",
    "            history = timemodel.fit(train_X,train_y,epochs=30, validation_split=0.2,batch_size=400, verbose=1)\n",
    "            score = timemodel.evaluate(test_X, test_y, verbose=0)\n",
    "            \n",
    "            print(score[1])\n",
    "            print(\"fitness pass\")\n",
    "            return score[1]\n",
    "    def selection(self, retain_rate, random_select_rate):\n",
    "        \"\"\"\n",
    "        選擇\n",
    "        先對適應度從大到小排序，選出存活的染色體\n",
    "        再進行隨機選擇，選出適應度雖然小，但是倖存下來的個體\n",
    "        \"\"\"\n",
    "        # 對適應度從大到小進行排序\n",
    "        graded = [(self.fitness(chromosome), chromosome) for chromosome in self.population]  # 求出所有染色體的適應值列表\n",
    "        \n",
    "        print(graded)\n",
    "        graded = [x[1] for x in sorted(graded, reverse=True)]  # 從小到大排序，形成新列表\n",
    "        # 選出適應性強的染色體\n",
    "        retain_length = int(len(graded) * retain_rate)  # 根據比例值  找到前。個適應性強的染色體 作為下一代的父母親\n",
    "        parents = graded[:retain_length]\n",
    "        print(parents)\n",
    "        # 選出適應性不強，但是倖存的染色體        從後面中  隨機選取一比例   也放到父母親中\n",
    "        for chromosome in graded[retain_length:]:\n",
    "            if random.random() < random_select_rate:\n",
    "                parents.append(chromosome)\n",
    "        print(parents)\n",
    "        print(\"selection pass\")\n",
    "        return parents\n",
    "    def crossover(self, parents):\n",
    "        \"\"\"\n",
    "        染色體的交叉、繁殖，生成新一代的種群\n",
    "        \"\"\"\n",
    "        # 新出生的孩子，最終會被加入存活下來的父母之中，形成新一代的種群。\n",
    "        children = []\n",
    "        # 需要繁殖的孩子的量，差值，就是要交叉生成的目標數\n",
    "        target_count = len(self.population) - len(parents)\n",
    "        print(\"target_count:\")\n",
    "        print(target_count)\n",
    "        # 開始根據需要的量進行繁殖\n",
    "        while len(children) < target_count:\n",
    "            male = random.randint(0, len(parents) - 1)\n",
    "            female = random.randint(0, len(parents) - 1)\n",
    "            if male != female:  # 父母親序號不能相同\n",
    "                # 隨機選取交叉點\n",
    "                cross_pos = random.randint(0, self.length)\n",
    "                # 生成掩碼，方便位操作\n",
    "                mask = 0\n",
    "                for i in range(cross_pos):\n",
    "                    mask |= (1 << i)\n",
    "                male = parents[male]\n",
    "                female = parents[female]\n",
    "                # 孩子將獲得父親在交叉點前的基因和母親在交叉點後（包括交叉點）的基因\n",
    "                child = ((male & mask) | (female & ~mask)) & ((1 << self.length) - 1)\n",
    "                children.append(child)\n",
    "        # 經過繁殖後，孩子和父母的數量與原始種群數量相等，在這裡可以更新種群。\n",
    "        self.population = parents + children\n",
    "        for i in range(len(self.population)):\n",
    "            print(\"生成新一代的種群\")\n",
    "            print(\"染色體：\")\n",
    "            print(i)\n",
    "            print (self.population[i])\n",
    "            print ('{0:b}'.format(self.population[i]))\n",
    "        print(\"crossover pass\")\n",
    "    def mutation(self, rate):\n",
    "        \"\"\"\n",
    "        變異\n",
    "        對種群中的所有個體，隨機改變某個個體中的某個基因\n",
    "        \"\"\"\n",
    "        for i in range(len(self.population)):\n",
    "            if random.random() < rate:\n",
    "                j = random.randint(0, self.length - 1)\n",
    "                self.population[i] ^= 1 << j\n",
    "        for i in range(len(self.population)):\n",
    "            print(\"變異後的種群\")\n",
    "            print(\"染色體：\")\n",
    "            print(i)\n",
    "            print (self.population[i])\n",
    "            print ('{0:b}'.format(self.population[i]))\n",
    "        print(\"mutation pass\")\n",
    "    def decode(self, chromosome):\n",
    "            \"\"\"\n",
    "            解碼染色體，將二進位制轉化為屬於[0, 9]的實數\n",
    "            \"\"\"\n",
    "            print(\"decode pass\")\n",
    "            return chromosome * 9.0 / (2 ** self.length - 1)\n",
    "            \n",
    "    def result(self):\n",
    "        \"\"\"\n",
    "        獲得當前代的最優值，這裡取的是函式取最大值時x的值。\n",
    "        \"\"\"\n",
    "#         print (self.population[i])\n",
    "#         print ('{0:b}'.format(self.population[i]))\n",
    "        print(\"result pass\")\n",
    "        return '{0:b}'.format(self.population[0])"
   ]
  },
  {
   "cell_type": "markdown",
   "metadata": {},
   "source": [
    "# 合併演算法"
   ]
  },
  {
   "cell_type": "code",
   "execution_count": null,
   "metadata": {
    "scrolled": true
   },
   "outputs": [],
   "source": [
    "#geni_string=ga.result()\n",
    "geni_string=\"10011001101111100010000111111000001000100111111110101110011001110110101111001\"\n",
    "print (geni_string)"
   ]
  },
  {
   "cell_type": "code",
   "execution_count": null,
   "metadata": {},
   "outputs": [],
   "source": [
    "dir=\"flow1.csv\"\n",
    "df = pd.read_csv(dir)\n",
    "col=df.columns\n",
    "i=0\n",
    "data1=[]\n",
    "for record in geni_string:\n",
    "    if(record=='1'):\n",
    "        data1.append(col[i])\n",
    "    i+=1\n",
    "print(len(data1))"
   ]
  },
  {
   "cell_type": "code",
   "execution_count": null,
   "metadata": {
    "scrolled": true
   },
   "outputs": [],
   "source": [
    "print(\"所选择之属性：\")\n",
    "data1"
   ]
  },
  {
   "cell_type": "code",
   "execution_count": null,
   "metadata": {},
   "outputs": [],
   "source": [
    "class_dirdata1='flow1_2class.csv'\n",
    "class_dirdata2='flow2_2class.csv'\n",
    "#特征篩選\n",
    "class_data1,class_label1,class_data2,class_label2=classdatapredeal(class_dirdata1,class_dirdata2,geni_string)\n",
    "time_step=100#時間序列設置\n"
   ]
  },
  {
   "cell_type": "code",
   "execution_count": null,
   "metadata": {},
   "outputs": [],
   "source": [
    "class_data1.shape"
   ]
  },
  {
   "cell_type": "code",
   "execution_count": null,
   "metadata": {},
   "outputs": [],
   "source": [
    "class_label2"
   ]
  },
  {
   "cell_type": "code",
   "execution_count": null,
   "metadata": {
    "scrolled": true
   },
   "outputs": [],
   "source": [
    "#數據和標籤設定\n",
    "class_All_data,class_All_label=classdataReorganization(class_data1,class_label1,class_data2,class_label2,time_step)\n",
    "#訓練集測試集分割\n",
    "train_X,test_X, train_y, test_y=datasplit(class_All_data,class_All_label)\n"
   ]
  },
  {
   "cell_type": "code",
   "execution_count": null,
   "metadata": {},
   "outputs": [],
   "source": [
    "test_y[:3]"
   ]
  },
  {
   "cell_type": "code",
   "execution_count": null,
   "metadata": {},
   "outputs": [],
   "source": [
    "#模型訓練\n",
    "timemodel=timeModel1(train_X,time_step)\n",
    "history = timemodel.fit(train_X,train_y,epochs=30, validation_split=0.2,batch_size=500, verbose=1)"
   ]
  },
  {
   "cell_type": "code",
   "execution_count": null,
   "metadata": {},
   "outputs": [],
   "source": [
    "f, (ax1, ax2) = plt.subplots(1, 2, figsize=(12, 4))\n",
    "t = f.suptitle('class model evaluate', fontsize=12)\n",
    "f.subplots_adjust(top=0.85, wspace=0.3)\n",
    "\n",
    "class_epoch_list = list(range(1,31))\n",
    "ax1.plot(class_epoch_list, history.history['acc'], label='class_Train Accuracy')\n",
    "ax1.plot(class_epoch_list, history.history['val_acc'], label='class_Validation Accuracy')\n",
    "ax1.set_xticks(np.arange(0, 31, 5))\n",
    "ax1.set_ylabel('class_Accuracy Value')\n",
    "ax1.set_xlabel('class_Epoch')\n",
    "ax1.set_title('class_Accuracy')\n",
    "l1 = ax1.legend(loc=\"best\")\n",
    "\n",
    "ax2.plot(class_epoch_list, history.history['loss'], label='class_Train Loss')\n",
    "ax2.plot(class_epoch_list, history.history['val_loss'], label='class_Validation Loss')\n",
    "ax2.set_xticks(np.arange(0, 31, 5))\n",
    "ax2.set_ylabel('class_Loss Value')\n",
    "ax2.set_xlabel('class_Epoch')\n",
    "ax2.set_title('class_Loss')\n",
    "l2 = ax2.legend(loc=\"best\")"
   ]
  },
  {
   "cell_type": "code",
   "execution_count": null,
   "metadata": {},
   "outputs": [],
   "source": [
    "#對分類區中的test進行預測\n",
    "time_pre=timemodel.predict(test_X,verbose=2)"
   ]
  },
  {
   "cell_type": "code",
   "execution_count": null,
   "metadata": {},
   "outputs": [],
   "source": [
    "test_y[:3]"
   ]
  },
  {
   "cell_type": "code",
   "execution_count": null,
   "metadata": {},
   "outputs": [],
   "source": [
    "time_pre[:3]"
   ]
  },
  {
   "cell_type": "code",
   "execution_count": null,
   "metadata": {},
   "outputs": [],
   "source": [
    "# calculate RMSE\n",
    "rmse = sqrt(mean_squared_error(test_y, time_pre))\n",
    "print('Test RMSE: %.3f' % rmse)"
   ]
  },
  {
   "cell_type": "code",
   "execution_count": null,
   "metadata": {},
   "outputs": [],
   "source": [
    "Y_pred = np.argmax(time_pre,axis=1)\n",
    "Y_test = np.argmax(test_y,axis=1)"
   ]
  },
  {
   "cell_type": "code",
   "execution_count": null,
   "metadata": {},
   "outputs": [],
   "source": [
    "from sklearn.metrics import confusion_matrix\n",
    "from sklearn.metrics import classification_report"
   ]
  },
  {
   "cell_type": "code",
   "execution_count": null,
   "metadata": {},
   "outputs": [],
   "source": [
    "mat = confusion_matrix(Y_test,Y_pred)\n",
    "from matplotlib import pyplot as plt\n",
    "import seaborn as sns\n",
    "\n",
    "sns.set(font_scale=1.5)\n",
    "sns.heatmap(mat,square=True,annot=True,fmt='d',cbar=False)\n",
    "\n",
    "plt.xticks(fontsize=20)\n",
    "plt.yticks(fontsize=20)\n",
    "\n",
    "plt.xlabel('pred label')\n",
    "plt.ylabel('true label')\n",
    "\n",
    "t = ['0','1']\n",
    "print(mat)\n",
    "print(classification_report(Y_test,Y_pred,target_names=t))"
   ]
  },
  {
   "cell_type": "code",
   "execution_count": null,
   "metadata": {},
   "outputs": [],
   "source": [
    "plt.figure(figsize=(4,3))\n",
    "\n",
    "\n",
    "# plt.subplot(3,1,1)\n",
    "plt.plot(Y_test[:100], color = 'black', linewidth=1, label = 'True value')\n",
    "plt.plot(time_pre[:100], color = 'red', label = 'Predicted')\n",
    "plt.legend(frameon=False)\n",
    "plt.ylabel(\"label forecast\")\n",
    "plt.xlabel(\"time\")\n",
    "plt.title(\"Predicted label (first 100)\")"
   ]
  },
  {
   "cell_type": "code",
   "execution_count": null,
   "metadata": {},
   "outputs": [],
   "source": []
  },
  {
   "cell_type": "code",
   "execution_count": null,
   "metadata": {},
   "outputs": [],
   "source": []
  }
 ],
 "metadata": {
  "kernelspec": {
   "display_name": "Python 3",
   "language": "python",
   "name": "python3"
  },
  "language_info": {
   "codemirror_mode": {
    "name": "ipython",
    "version": 3
   },
   "file_extension": ".py",
   "mimetype": "text/x-python",
   "name": "python",
   "nbconvert_exporter": "python",
   "pygments_lexer": "ipython3",
   "version": "3.7.4"
  }
 },
 "nbformat": 4,
 "nbformat_minor": 2
}
